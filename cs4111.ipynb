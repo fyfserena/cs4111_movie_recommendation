{
 "cells": [
  {
   "cell_type": "code",
   "execution_count": null,
   "metadata": {
    "colab": {
     "base_uri": "https://localhost:8080/"
    },
    "executionInfo": {
     "elapsed": 518,
     "status": "ok",
     "timestamp": 1614458126964,
     "user": {
      "displayName": "Yingfei Fan",
      "photoUrl": "https://lh3.googleusercontent.com/a-/AOh14GhRyJ1s6xnLiGcZ3co5Lvu_uw8s9ibOmBilvLyz=s64",
      "userId": "06222129021084483374"
     },
     "user_tz": 300
    },
    "id": "li8UOoqLAEy0",
    "outputId": "acf00b3f-ba01-47be-f14b-05fce79b2780"
   },
   "outputs": [
    {
     "name": "stderr",
     "output_type": "stream",
     "text": [
      "/usr/local/lib/python3.7/dist-packages/psycopg2/__init__.py:144: UserWarning: The psycopg2 wheel package will be renamed from release 2.8; in order to keep installing from binary please use \"pip install psycopg2-binary\" instead. For details see: <http://initd.org/psycopg/docs/install.html#binary-install-from-pypi>.\n",
      "  \"\"\")\n"
     ]
    }
   ],
   "source": [
    "import requests\n",
    "import json \n",
    "import psycopg2\n",
    "from datetime import datetime\n",
    "from datetime import timedelta\n",
    "import string\n",
    "import numpy\n",
    "from re import sub\n",
    "import pandas as pd\n",
    "from bs4 import BeautifulSoup\n",
    "\n",
    "import unittest\n"
   ]
  },
  {
   "cell_type": "code",
   "execution_count": null,
   "metadata": {
    "id": "ONsxalwgrhtT"
   },
   "outputs": [],
   "source": [
    "from google.colab import drive\n",
    "drive.mount('/content/drive')"
   ]
  },
  {
   "cell_type": "code",
   "execution_count": null,
   "metadata": {
    "id": "evipZp26rvVa"
   },
   "outputs": [],
   "source": [
    "%cd /content/drive/MyDrive/cs4111/cs4111_project/"
   ]
  },
  {
   "cell_type": "code",
   "execution_count": null,
   "metadata": {
    "id": "-raqlFeutabF"
   },
   "outputs": [],
   "source": [
    "# Constant variables listing here!\n",
    "API_KEY = 'API_KEY'"
   ]
  },
  {
   "cell_type": "code",
   "execution_count": null,
   "metadata": {
    "id": "LxaHKP0eAIQW"
   },
   "outputs": [],
   "source": [
    "# we should never write the pw in code! :(\n",
    "conn = psycopg2.connect(dbname=\"project1\", user=\"user\", host=\"34.73.36.248\", password=\"password\")"
   ]
  },
  {
   "cell_type": "code",
   "execution_count": null,
   "metadata": {
    "id": "0J93duXhAVsy"
   },
   "outputs": [],
   "source": [
    "class Movie(object):\n",
    "  DICT_GENRE = {}\n",
    "  ALPHABET_USED_LIST = [0] * 26\n",
    "  TABLE = \"movie\"\n",
    "\n",
    "  def __init__(self, id: str, agelimit : str, summary : str, dateofrelease : str, \n",
    "                 duration : str, awards : str, genre : str, budget : int, profit : str):\n",
    "    self.id = id\n",
    "    self.agelimit = agelimit\n",
    "    self.summary = summary\n",
    "    self.dateofrelease = convert_date_format(dateofrelease)\n",
    "    self.duration = convert_time_format(duration)\n",
    "    self.awards = awards\n",
    "    self.genresetid = create_genre_set_id(genre)\n",
    "    self.budget = generate_budget()\n",
    "    self.profit = profit\n",
    "\n",
    "\n",
    "  def insert_movie_data(self):\n",
    "    try:\n",
    "      cur = conn.cursor()\n",
    "      query = \"INSERT INTO movie (id, agelimit, summary, dateofrelease, duration, awards, genresetid, budget, profit) VALUES (%s, %s, %s, %s, %s, %s, %s, %s, %s);\"\n",
    "      insert_data = (self.id, self.agelimit, self.summary, self.dateofrelease, self.duration, self.awards, self.genresetid, self.budget, self.profit)\n",
    "      cur.execute(query, insert_data)\n",
    "      conn.commit()\n",
    "      cur.close()\n",
    "      print(\"insert movie_id: \" + self.id +  \" data successfully!\")\n",
    "\n",
    "    except (Exception, psycopg2.DatabaseError) as error:\n",
    "      print(error)\n",
    "      conn.rollback()\n",
    "\n",
    "  @staticmethod\n",
    "  def insert_movie_data_batch(data):\n",
    "    try:\n",
    "      cur = conn.cursor()\n",
    "      for item in data:\n",
    "        id = item[\"imdbID\"]\n",
    "        agelimit = item[\"Rated\"]\n",
    "        summary = item[\"Plot\"]\n",
    "        dateofrelease = Movie.convert_date_format(item[\"Released\"])\n",
    "        duration = Movie.convert_time_format(item[\"Runtime\"])\n",
    "        awards = item['Awards']\n",
    "        genresetid = Movie.create_genre_set_id(item[\"Genre\"])\n",
    "        # Movie.insert_genre_set(genresetid, item[\"Genre\"])\n",
    "\n",
    "        budget = Movie.generate_budget()\n",
    "        profit = item[\"BoxOffice\"]\n",
    "\n",
    "        query = \"INSERT INTO movie (id, agelimit, summary, dateofrelease, duration, awards, genresetid, budget, profit) VALUES (%s, %s, %s, %s, %s, %s, %s, %s, %s);\"\n",
    "        insert_data = (id, agelimit, summary, dateofrelease, duration, awards, genresetid, budget, profit)\n",
    "\n",
    "        cur.execute(query, insert_data)\n",
    "        conn.commit()\n",
    "      cur.close()\n",
    "      print(\"insert \" + str(len(data)) + \" data successfully!\")\n",
    "\n",
    "    except (Exception, psycopg2.DatabaseError) as error:\n",
    "      print(error)\n",
    "      conn.rollback()\n",
    "\n",
    "  @staticmethod\n",
    "  def get_id_batch():\n",
    "    try:\n",
    "      cur = conn.cursor()\n",
    "      query = \"SELECT id FROM movie;\" \n",
    "      cur.execute(query)\n",
    "      print(\"The number of parts: \", cur.rowcount)\n",
    "      rows = cur.fetchall()\n",
    "      cur.close()\n",
    "      print(\"select \" + str(len(rows)) + \" data successfully!\")\n",
    "      # while row is not None:\n",
    "      #   id_list.append(row)\n",
    "\n",
    "    except (Exception, psycopg2.DatabaseError) as error:\n",
    "      print(error)\n",
    "      conn.rollback()\n",
    "\n",
    "    return [rows[i][0] for i in range(len(rows))]\n",
    "\n",
    "  # helper methods\n",
    "  @staticmethod\n",
    "  def convert_date_format(old_date):\n",
    "    return datetime.strptime(old_date.replace(\" \", \"-\"), '%d-%b-%Y').strftime('%Y-%m-%d')\n",
    "\n",
    "  @staticmethod\n",
    "  def convert_time_format(old_time):\n",
    "    return str(timedelta(hours=0, minutes=int(old_time.split(' ')[0]), seconds=0)) \n",
    "\n",
    "  @staticmethod\n",
    "  def create_genre_set_id(genre):\n",
    "    genre_set = genre.split(',')\n",
    "    genre_set_id = ''\n",
    "    for g in genre_set:\n",
    "      # if the gerne has not been store in the dictionary\n",
    "      if not Movie.DICT_GENRE.get(g):\n",
    "        # find a alphabet that has not been used by a genre\n",
    "        idx = 0\n",
    "        for i in range(26):\n",
    "          if not Movie.ALPHABET_USED_LIST[i]:\n",
    "            idx = i\n",
    "            break\n",
    "\n",
    "        Movie.DICT_GENRE[g] = string.ascii_lowercase[idx]\n",
    "        genre_set_id += string.ascii_lowercase[idx]\n",
    "        # assign the used alphabet to be 1\n",
    "        Movie.ALPHABET_USED_LIST[idx] = 1\n",
    "      #get the value to the genre\n",
    "      else:\n",
    "        genre_set_id += Movie.DICT_GENRE.get(g)\n",
    "    return genre_set_id\n",
    "\n",
    "  @staticmethod\n",
    "  def insert_genre_set(genre_set_id, genre):\n",
    "    genre_list = genre.split(',')\n",
    "    for genre in genre_list:\n",
    "      query = \"INSERT INTO GenreSet VALUES (id, genre) (%s, %s);\"\n",
    "      insert_data = (genre_set_id, genre)\n",
    "\n",
    "\n",
    "  @staticmethod\n",
    "  def generate_budget():\n",
    "  # $10 – $15 million\n",
    "    return int(numpy.random.randint(low=10**7, high=1.5*10**7, size=1)[0])\n",
    "\n",
    "\n"
   ]
  },
  {
   "cell_type": "code",
   "execution_count": null,
   "metadata": {
    "id": "lRBVw1xMu_Xo"
   },
   "outputs": [],
   "source": [
    "class Genre(object):\n",
    "    dict_used = {}\n",
    "    \n",
    "    @staticmethod\n",
    "    def insert_genre_set(movie_data):\n",
    "      try:\n",
    "        cur = conn.cursor()\n",
    "        for item in movie_data:\n",
    "          genre_list = item[\"Genre\"].split(',')\n",
    "          genre_set_id = Movie.create_genre_set_id(item[\"Genre\"])\n",
    "          for genre in genre_list:\n",
    "            if not Genre.dict_used.get(genre_set_id + genre):\n",
    "              query = \"INSERT INTO GenreSet (id, genre) VALUES (%s, %s);\"\n",
    "              insert_data = (genre_set_id, genre)\n",
    "              cur.execute(query, insert_data)\n",
    "              Genre.dict_used[genre_set_id + genre] = 1\n",
    "        cur.close()\n",
    "        conn.commit()\n",
    "        print(\"insert \" + str(len(movie_data)) + \" data successfully!\")\n",
    "\n",
    "      except (Exception, psycopg2.DatabaseError) as error:\n",
    "        print(error)\n",
    "        conn.rollback()"
   ]
  },
  {
   "cell_type": "code",
   "execution_count": null,
   "metadata": {
    "id": "w5hwqUfxtKdU"
   },
   "outputs": [],
   "source": [
    "class Music(object):\n",
    "    TABLE = \"music\"\n",
    "    def __init__(self, id: str, name : str, singer : str, movie_id : str):\n",
    "      self.id = id\n",
    "      self.name = name\n",
    "      self.singer = singer\n",
    "      self.movie_id = movie_id\n",
    "\n",
    "    @staticmethod\n",
    "    def insert_music_data_batch(data):\n",
    "      try:\n",
    "        cur = conn.cursor()\n",
    "        for i in range(len(data[\"id\"])):\n",
    "          id = data[\"id\"][i]\n",
    "          name = data[\"name\"][i]\n",
    "          singer = data[\"singer\"][i]\n",
    "          movie_id = data[\"movie_id\"][i]\n",
    "\n",
    "          query = \"INSERT INTO \" + Music.TABLE + \" (id, name, singer, movie_id) VALUES (%s, %s, %s, %s);\"\n",
    "          insert_data = (id, name, singer, movie_id)\n",
    "\n",
    "          cur.execute(query, insert_data)\n",
    "          conn.commit()\n",
    "        cur.close()\n",
    "        print(\"insert \" + str(len(data[\"id\"])) + \" data successfully!\")\n",
    "\n",
    "      except (Exception, psycopg2.DatabaseError) as error:\n",
    "        print(error)\n",
    "        conn.rollback()\n",
    "\n",
    "\n"
   ]
  },
  {
   "cell_type": "code",
   "execution_count": null,
   "metadata": {
    "id": "HOcZVK9TAXVE"
   },
   "outputs": [],
   "source": [
    "class Scraper(object):\n",
    "\n",
    "    def get_movie_data(self, imdb_id_set, apikey): \n",
    "      data = []\n",
    "      for id in imdb_id_set:\n",
    "        url = 'http://www.omdbapi.com/?i='+ str(id) + '&apikey=' + str(apikey)\n",
    "        headers = {\"Content_Type\" : \"application/json\"}\n",
    "        r = requests.get(url, headers = headers)\n",
    "        if r.status_code == 200:\n",
    "          data.append(json.loads(r.text))\n",
    "        else:\n",
    "          raise Exception(\"Response:\" + str(r.status_code) + \"to\" + url)\n",
    "      return data\n",
    "    \n",
    "    '''\n",
    "    get music data of movies\n",
    "    input: movie imdb_id_set, apikey\n",
    "    output: dictionary with (id, name, singer, movie_id)\n",
    "    '''\n",
    "    def get_music_data(self, imdb_id_set): \n",
    "      data = {\"id\" : [], \"name\" : [], \"singer\" : [], \"movie_id\" : []}\n",
    "      for id in imdb_id_set:\n",
    "        url = 'https://www.imdb.com/title/' + str(id) +'/soundtrack?ref_=tt_trv_snd'\n",
    "        headers = {\"Content_Type\" : \"application/json\"}\n",
    "        r = requests.get(url, headers = headers)\n",
    "        if r.status_code == 200:\n",
    "          ids, names, singers, movie_ids = self.clean_music_data(r, id)\n",
    "          data[\"id\"] += ids\n",
    "          data[\"name\"] += names\n",
    "          data[\"singer\"] += singers\n",
    "          data[\"movie_id\"] += movie_ids\n",
    "        else:\n",
    "          raise Exception(\"Response:\" + str(r.status_code) + \"to\" + url)\n",
    "        \n",
    "      return data\n",
    "\n",
    "    def clean_music_data(self, r, movie_id):\n",
    "      soup = BeautifulSoup(r.text, \"html.parser\")\n",
    "      soundtrack_div = soup.find_all('div', class_='list')[0]\n",
    "\n",
    "      # create lists to store music information in this movie (the reson why I dont use dict or df: inefficient append opearations)\n",
    "      ids, names, singers, movie_ids = [], [], [], []\n",
    "      \n",
    "      for row in soundtrack_div:\n",
    "        if len(row) > 10:\n",
    "          ids.append(row.get('id')) #use get() to get the value inside a tag\n",
    "          names.append(row.get_text().split('\\n')[0])\n",
    "          singer = row.find('a').get_text() if row.find('a') else 'N/A'\n",
    "          singers.append(singer) # use find() to find the data that have tag 'a'\n",
    "          movie_ids.append(movie_id)\n",
    "      return ids, names, singers, movie_ids\n",
    "        \n"
   ]
  },
  {
   "cell_type": "code",
   "execution_count": null,
   "metadata": {
    "id": "2rcRxgCQ-ucj"
   },
   "outputs": [],
   "source": [
    "\"\"\"Be really careful with df.drop_duplicates(). \n",
    "The index will not be contiguous, which may lead to indexError when iterating it later\"\"\"\n",
    "\n",
    "class Data_loader(object):\n",
    "  def __init__(self):\n",
    "    self.director_csv = 'Director.csv'\n",
    "    self.actor_csv = 'Actor.csv'\n",
    "    self.movie2actor_csv = 'm2a.csv'\n",
    "    self.movie2director_csv = 'm2d.csv'\n",
    "\n",
    "  def director(self):\n",
    "    data = pd.read_csv(self.director_csv)\n",
    "    data = data.drop(['Unnamed: 0'],axis=1)\n",
    "    data = data.drop_duplicates()\n",
    "    return data.values.tolist()\n",
    "\n",
    "  def actor(self,):\n",
    "    data = pd.read_csv(self.actor_csv)\n",
    "    data = data.drop(['Unnamed: 0'],axis=1)\n",
    "    data = data.drop_duplicates()\n",
    "    return data.values.tolist()\n",
    "\n",
    "  def movie2actor(self):\n",
    "    data = pd.read_csv(self.movie2actor_csv)\n",
    "    data = data.drop(['Unnamed: 0'],axis=1)\n",
    "    data = data.drop_duplicates()\n",
    "    return data.values.tolist()\n",
    "\n",
    "  def movie(self):\n",
    "    data = pd.read_csv(self.movie2actor_csv)\n",
    "    data = data.drop(['Unnamed: 0'],axis=1)\n",
    "    data = data['Movie_id']\n",
    "    data = data.drop_duplicates()\n",
    "    return data.values.tolist()\n",
    "\n",
    "  def movie2director(self):\n",
    "    data = pd.read_csv(self.movie2director_csv)\n",
    "    data = data.drop(['Unnamed: 0'],axis=1)\n",
    "    data = data.drop_duplicates()\n",
    "    return data.values.tolist()\n",
    "\n"
   ]
  },
  {
   "cell_type": "code",
   "execution_count": null,
   "metadata": {
    "id": "vzRsQmu2HGjr"
   },
   "outputs": [],
   "source": [
    "          \n",
    "class Test_Scraper(unittest.TestCase):\n",
    "  def __init__(self):\n",
    "    self.scraper = Scraper()\n",
    "  \n",
    "  def test_get_music_data(self):   \n",
    "    data = self.scraper.get_music_data([\"tt2948372\", \"tt4154796\"])\n",
    "    print(data)\n",
    "    return data\n",
    "\n",
    "  def test_clean_music_data(self):\n",
    "    id = movie_id = \"tt4154796\"\n",
    "    url = 'https://www.imdb.com/title/' + str(id) +'/soundtrack?ref_=tt_trv_snd'\n",
    "    headers = {\"Content_Type\" : \"application/json\"}\n",
    "    r = requests.get(url, headers = headers)\n",
    "    # self.assertEqual(int(r.status_code), 200)\n",
    "    data = self.scraper.clean_music_data(r, movie_id)\n",
    "    print(data)\n",
    "\n",
    "class Test_Movie(unittest.TestCase):\n",
    "  # def __init__(self):\n",
    "    # self.movie = Movie()\n",
    "\n",
    "  def test_get_ids(self):\n",
    "    ids = Movie.get_id_batch()\n",
    "    print(ids)\n",
    "\n"
   ]
  },
  {
   "cell_type": "code",
   "execution_count": null,
   "metadata": {
    "colab": {
     "base_uri": "https://localhost:8080/"
    },
    "executionInfo": {
     "elapsed": 890,
     "status": "ok",
     "timestamp": 1614458778269,
     "user": {
      "displayName": "Yingfei Fan",
      "photoUrl": "https://lh3.googleusercontent.com/a-/AOh14GhRyJ1s6xnLiGcZ3co5Lvu_uw8s9ibOmBilvLyz=s64",
      "userId": "06222129021084483374"
     },
     "user_tz": 300
    },
    "id": "P7s_utx5-zIz",
    "outputId": "42eb4279-d846-49e4-f1f6-e61424e45e54"
   },
   "outputs": [
    {
     "name": "stdout",
     "output_type": "stream",
     "text": [
      "{'id': ['sn2213336', 'sn2213331', 'sn2213337', 'sn2213332', 'sn2213338', 'sn2213333', 'sn2213334', 'sn2213341', 'sn2217210', 'sn1860481', 'sn1861718', 'sn1861500', 'sn1861694', 'sn1861499', 'sn1861395'], 'name': ['We Get Along ', 'II B.S. ', 'Rappin Ced ', 'Subterranean Homesick Blues ', 'Check the Rhime ', 'Body and Soul ', 'Apple Tree ', \"It's All Right \", \"It's All Right (Duet version) \", 'Dear Mr. Fantasy ', 'Supersonic Rocket Ship ', 'Doom and Gloom ', 'Hey Lawdy Mama ', 'Come and Get Your Love ', \"It's Been a Long, Long Time \"], 'singer': ['Joe Crispiano', 'Charles Mingus', 'Daveed Diggs', 'Bob Dylan', 'Roger Ball', 'Johnny Green', 'Erykah Badu', 'Curtis Mayfield', 'Curtis Mayfield', 'Steve Winwood', 'Ray Davies', 'Mick Jagger', 'John Kay', 'Lolly Vegas', 'Sammy Cahn'], 'movie_id': ['tt2948372', 'tt2948372', 'tt2948372', 'tt2948372', 'tt2948372', 'tt2948372', 'tt2948372', 'tt2948372', 'tt2948372', 'tt4154796', 'tt4154796', 'tt4154796', 'tt4154796', 'tt4154796', 'tt4154796']}\n"
     ]
    }
   ],
   "source": [
    "\n",
    "ts = Test_Scraper()\n",
    "data = ts.test_get_music_data()\n",
    "ts.test_clean_music_data()\n",
    "\n",
    "tm = Test_Movie()\n",
    "ids = tm.test_get_ids()\n",
    "\n",
    "# if __name__ == \"__main__\":\n",
    "#     unittest.main()\n"
   ]
  },
  {
   "cell_type": "code",
   "execution_count": null,
   "metadata": {
    "id": "xJeuLBUYPgpo"
   },
   "outputs": [],
   "source": []
  },
  {
   "cell_type": "code",
   "execution_count": null,
   "metadata": {
    "id": "XhJdsGbTBZNb"
   },
   "outputs": [],
   "source": []
  },
  {
   "cell_type": "code",
   "execution_count": null,
   "metadata": {
    "id": "qdkfQklNXQhc"
   },
   "outputs": [],
   "source": []
  },
  {
   "cell_type": "code",
   "execution_count": null,
   "metadata": {
    "id": "fN0TMwpUXYrF"
   },
   "outputs": [],
   "source": [
    "# get top 1000 movies' id from cvs files\n",
    "loader = Data_loader()\n",
    "id_list = loader.movie()\n",
    "# get full movies' information\n",
    "scraper = Scraper()\n",
    "movie_data = scraper.get_movie_data(id_list, API_KEY)\n",
    "# insert data to database\n",
    "# Movie.insert_movie_data_batch(movie_data)\n",
    "Genre.insert_genre_set(movie_data)\n",
    "    "
   ]
  },
  {
   "cell_type": "code",
   "execution_count": null,
   "metadata": {
    "colab": {
     "base_uri": "https://localhost:8080/"
    },
    "executionInfo": {
     "elapsed": 23905,
     "status": "ok",
     "timestamp": 1614459909879,
     "user": {
      "displayName": "Yingfei Fan",
      "photoUrl": "https://lh3.googleusercontent.com/a-/AOh14GhRyJ1s6xnLiGcZ3co5Lvu_uw8s9ibOmBilvLyz=s64",
      "userId": "06222129021084483374"
     },
     "user_tz": 300
    },
    "id": "nH1vWcnz8imX",
    "outputId": "4186a01b-9d2a-4776-9347-2b6861078152"
   },
   "outputs": [
    {
     "name": "stdout",
     "output_type": "stream",
     "text": [
      "The number of parts:  50\n",
      "select 50 data successfully!\n"
     ]
    }
   ],
   "source": [
    "# insert music data\n",
    "movie_ids = Movie.get_id_batch()\n",
    "scraper = Scraper()\n",
    "music_info = scraper.get_music_data(movie_ids)\n",
    "len(music_info[\"id\"]), len(movie_ids)\n",
    "Music.insert_music_data_batch(music_info)"
   ]
  },
  {
   "cell_type": "code",
   "execution_count": null,
   "metadata": {
    "id": "YPnBruuaT0kM"
   },
   "outputs": [],
   "source": []
  },
  {
   "cell_type": "code",
   "execution_count": null,
   "metadata": {
    "id": "185H5zzHRChK"
   },
   "outputs": [],
   "source": []
  },
  {
   "cell_type": "code",
   "execution_count": null,
   "metadata": {
    "id": "KFNYBGaEXaED"
   },
   "outputs": [],
   "source": [
    "#  sql query and operation\n",
    "def select_all(table_name):\n",
    "  try:\n",
    "    cur = conn.cursor()\n",
    "    cur.execute(\"SELECT * FROM \" + table_name)\n",
    "    print(\"The number of parts: \", cur.rowcount)\n",
    "    row = cur.fetchone()\n",
    "    cur.close()\n",
    "    print(\"select \" + str(len(row)) + \" data successfully!\")\n",
    "    while row is not None:\n",
    "      print(row)\n",
    "  except (Exception, psycopg2.DatabaseError) as error:\n",
    "    print(error)\n",
    "    conn.rollback()\n",
    "\n",
    "def create_table():\n",
    "  try:\n",
    "    cur = conn.cursor()\n",
    "    queries = \"create TABLE GenreSet (id varchar(26), genre varchar(100), PRIMARY KEY(id, genre));\"\n",
    "          \n",
    "    for q in queries:\n",
    "      cur.execute(q)\n",
    "    # close communication with the PostgreSQL database server\n",
    "    cur.close()\n",
    "    # commit the changes\n",
    "    conn.commit()\n",
    "  except (Exception, psycopg2.DatabaseError) as error:\n",
    "      print(error)\n",
    "      conn.rollback()\n",
    "  \n"
   ]
  },
  {
   "cell_type": "code",
   "execution_count": null,
   "metadata": {
    "id": "VQR-QOfOE-cO"
   },
   "outputs": [],
   "source": [
    "select  movie.* , music.name, sp.streamname\n",
    "from movie, music, streamon so, streamingplatform sp, users, likingactor la, likingdirector ld, actingin, directingin \n",
    "where \n",
    "(la.peopleid = '2'\n",
    "and actingin.peopleid = la.actorid\n",
    "and movie.id = actingin.movieid)\n",
    "or\n",
    "(ld.peopleid = '2'\n",
    "and directingin.peopleid = ld.dirid\n",
    "and movie.id = directingin.movieid)\n",
    "\n",
    "and movie.id = music.movie_id\n",
    "and movie.id= so.movieid\n",
    "and sp.streamid = so.streamid\n"
   ]
  },
  {
   "cell_type": "code",
   "execution_count": null,
   "metadata": {
    "id": "pzO7fe8xXmfn"
   },
   "outputs": [],
   "source": [
    "\n",
    "# conn.rollback()\n"
   ]
  },
  {
   "cell_type": "code",
   "execution_count": null,
   "metadata": {
    "id": "3M7i0deRpQZ4"
   },
   "outputs": [],
   "source": [
    "\n",
    "\n",
    "# conn.close()"
   ]
  },
  {
   "cell_type": "code",
   "execution_count": null,
   "metadata": {
    "id": "itzc6ERIhG2q"
   },
   "outputs": [],
   "source": [
    "select actor.name, actor.awards\n",
    "from (\n",
    "    select la.actorid, max(count_users)\n",
    "    from (\n",
    "        select la.actorid, count(*) count_users\n",
    "        from likingactor la\n",
    "        group by la.actorid)) as sub, actor\n",
    "      where sub.actorid = actor.peopleid\n"
   ]
  },
  {
   "cell_type": "code",
   "execution_count": null,
   "metadata": {
    "id": "WaAWz_QkrWgJ"
   },
   "outputs": [],
   "source": [
    "select director.name, director.awards\n",
    "from (\n",
    "    select ld.dirid, max(count_users)\n",
    "    from (\n",
    "        select ld.dirid, count(*) count_users\n",
    "        from likingdirector ld\n",
    "        group by ld.dirid)) as sub, director\n",
    "      where sub.dirid = director.peopleid"
   ]
  },
  {
   "cell_type": "code",
   "execution_count": null,
   "metadata": {
    "id": "ZPvYgyvzhxxh"
   },
   "outputs": [],
   "source": [
    "select movie.*\n",
    "from (\n",
    "select w.movieid, max(count_users)\n",
    "    from (\n",
    "        select w.movieid, count(*) count_users\n",
    "        from watchlist w\n",
    "        group by w.movieid)) as sub, moive\n",
    "        where movie.id = sub.movieid\n"
   ]
  },
  {
   "cell_type": "code",
   "execution_count": null,
   "metadata": {
    "id": "aLz7EuaIxEX5"
   },
   "outputs": [],
   "source": [
    "select distinct actors.name\n",
    "from actors, actingin,\n",
    "(select di.movieid\n",
    "from directingin di, directors d\n",
    "where d.peopleid = di.peopleid and d.name like '%Anthony Russo%') am\n",
    "where actors.peopleid = actingin.peopleid and actingin.movieid = am.movieid;\n"
   ]
  },
  {
   "cell_type": "code",
   "execution_count": null,
   "metadata": {
    "id": "eBnnQErxXx3y"
   },
   "outputs": [],
   "source": []
  },
  {
   "cell_type": "code",
   "execution_count": null,
   "metadata": {
    "id": "nBpK5T_uLBqU"
   },
   "outputs": [],
   "source": []
  },
  {
   "cell_type": "code",
   "execution_count": null,
   "metadata": {
    "id": "pQpJQ1GELB6C"
   },
   "outputs": [],
   "source": []
  },
  {
   "cell_type": "code",
   "execution_count": null,
   "metadata": {
    "id": "MMcbvf-z4U9w"
   },
   "outputs": [],
   "source": []
  },
  {
   "cell_type": "code",
   "execution_count": null,
   "metadata": {
    "id": "uNwEMzkK5zp3"
   },
   "outputs": [],
   "source": []
  },
  {
   "cell_type": "code",
   "execution_count": null,
   "metadata": {
    "id": "ZcVZQm4S5vNQ"
   },
   "outputs": [],
   "source": []
  },
  {
   "cell_type": "code",
   "execution_count": null,
   "metadata": {
    "id": "x-yRd9Qm4b7s"
   },
   "outputs": [],
   "source": []
  },
  {
   "cell_type": "code",
   "execution_count": null,
   "metadata": {
    "id": "alGx0Ynt53fj"
   },
   "outputs": [],
   "source": [
    "\n"
   ]
  },
  {
   "cell_type": "code",
   "execution_count": null,
   "metadata": {
    "id": "vkRtqaD858RN"
   },
   "outputs": [],
   "source": []
  }
 ],
 "metadata": {
  "colab": {
   "collapsed_sections": [],
   "name": "cs4111.ipynb",
   "provenance": []
  },
  "kernelspec": {
   "display_name": "Python 3",
   "language": "python",
   "name": "python3"
  },
  "language_info": {
   "codemirror_mode": {
    "name": "ipython",
    "version": 3
   },
   "file_extension": ".py",
   "mimetype": "text/x-python",
   "name": "python",
   "nbconvert_exporter": "python",
   "pygments_lexer": "ipython3",
   "version": "3.7.1"
  }
 },
 "nbformat": 4,
 "nbformat_minor": 1
}
